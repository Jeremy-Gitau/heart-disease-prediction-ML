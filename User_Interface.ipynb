{
  "cells": [
    {
      "cell_type": "code",
      "execution_count": 1,
      "id": "185bf5fb",
      "metadata": {
        "id": "185bf5fb"
      },
      "outputs": [],
      "source": [
        "import pickle\n",
        "import numpy as np"
      ]
    },
    {
      "cell_type": "code",
      "execution_count": 3,
      "id": "54387b66",
      "metadata": {
        "id": "54387b66"
      },
      "outputs": [],
      "source": [
        "loaded_model = pickle.load(open('my_model.sav','rb'))"
      ]
    },
    {
      "cell_type": "code",
      "source": [
        "pip install gradio"
      ],
      "metadata": {
        "id": "NFeOvyi8u9To"
      },
      "id": "NFeOvyi8u9To",
      "execution_count": null,
      "outputs": []
    },
    {
      "cell_type": "code",
      "execution_count": 6,
      "id": "0a4aa2aa",
      "metadata": {
        "id": "0a4aa2aa"
      },
      "outputs": [],
      "source": [
        "import gradio as gr"
      ]
    },
    {
      "cell_type": "code",
      "execution_count": 39,
      "id": "0d16079b",
      "metadata": {
        "id": "0d16079b"
      },
      "outputs": [],
      "source": [
        "def classify(Age,Sex,ChestPain,Resting_Blood_Pressure,Cholestrol,Fasting_blood_sugar,RestECG,Maximum_Heart_Rate,ExAng,Oldpeak,Slope,Tha):\n",
        "  # if statement for declaring the Sex variable\n",
        "    if Sex == \"Male\":\n",
        "        Sex = 1\n",
        "    elif Sex == \"Female\":\n",
        "        Sex = 0\n",
        "  \n",
        "  # if statement for declaring the chestpain variable\n",
        "    if ChestPain == \"asymptomatic\":\n",
        "      ChestPain = 0\n",
        "    elif ChestPain == \"nonanginal\":\n",
        "      ChestPain = 1\n",
        "    elif ChestPain == \"nontypical\":\n",
        "      ChestPain = 2\n",
        "    elif ChestPain == \"typical\":\n",
        "      ChestPain = 3\n",
        "\n",
        "    # if statement for declaring the thalassemia variable\n",
        "    if Tha == \"fixed\":\n",
        "      Tha = 0\n",
        "    elif Tha == \"normal\":\n",
        "      Tha = 1\n",
        "    elif Tha == \"reversable\":\n",
        "      Tha = 2\n",
        "    elif Tha == \"nan\":\n",
        "      Tha = 3\n",
        "\n",
        "    #  if statement for declaring the RestECG variable\n",
        "    if RestECG == \"0\":\n",
        "      RestECG = 0\n",
        "    elif RestECG == \"1\":\n",
        "      RestECG = 1\n",
        "    elif RestECG == \"2\":\n",
        "      RestECG = 2\n",
        "    # if statement for exang variable\n",
        "    if ExAng == \"yes\":\n",
        "      ExAng = 0\n",
        "    else:\n",
        "      ExAng = 1\n",
        "\n",
        "\n",
        "\n",
        "\n",
        "    inp = [Age,Sex,ChestPain,Resting_Blood_Pressure,Cholestrol,Fasting_blood_sugar,RestECG,Maximum_Heart_Rate,ExAng,Oldpeak,Slope,Tha]\n",
        "    input_data_array = np.asarray(inp)\n",
        "    reshaped_input = input_data_array.reshape(1,-1)\n",
        "    pred = loaded_model.predict(reshaped_input)\n",
        "    if (pred[0] == \"Yes\"):\n",
        "        prediction = \"you have a heart disease\"\n",
        "    else:\n",
        "        prediction = \"you are healthy\"\n",
        "    return prediction"
      ]
    },
    {
      "cell_type": "code",
      "execution_count": 40,
      "id": "941e5557",
      "metadata": {
        "colab": {
          "base_uri": "https://localhost:8080/",
          "height": 72
        },
        "id": "941e5557",
        "outputId": "f71bc0c5-b4e8-4d13-caaf-3b76802d2312"
      },
      "outputs": [
        {
          "output_type": "stream",
          "name": "stderr",
          "text": [
            "/usr/local/lib/python3.7/dist-packages/sklearn/base.py:451: UserWarning: X does not have valid feature names, but LogisticRegression was fitted with feature names\n",
            "  \"X does not have valid feature names, but\"\n"
          ]
        },
        {
          "output_type": "execute_result",
          "data": {
            "text/plain": [
              "'you are healthy'"
            ],
            "application/vnd.google.colaboratory.intrinsic+json": {
              "type": "string"
            }
          },
          "metadata": {},
          "execution_count": 40
        }
      ],
      "source": [
        "classify(63,1,3,145,233,1,2,150,0,2.3,3,0)"
      ]
    },
    {
      "cell_type": "code",
      "execution_count": 41,
      "id": "ee485f89",
      "metadata": {
        "colab": {
          "base_uri": "https://localhost:8080/",
          "height": 674
        },
        "id": "ee485f89",
        "outputId": "1afaae2b-d794-4671-9a4d-04b0aa8304f4"
      },
      "outputs": [
        {
          "output_type": "stream",
          "name": "stdout",
          "text": [
            "Colab notebook detected. To show errors in colab notebook, set `debug=True` in `launch()`\n",
            "\n",
            "Using Embedded Colab Mode (NEW). If you have issues, please use share=True and file an issue at https://github.com/gradio-app/gradio/\n",
            "Note: opening the browser inspector may crash Embedded Colab Mode.\n",
            "\n",
            "To create a public link, set `share=True` in `launch()`.\n"
          ]
        },
        {
          "output_type": "display_data",
          "data": {
            "text/plain": [
              "<IPython.core.display.Javascript object>"
            ],
            "application/javascript": [
              "(async (port, path, width, height, cache, element) => {\n",
              "                        if (!google.colab.kernel.accessAllowed && !cache) {\n",
              "                            return;\n",
              "                        }\n",
              "                        element.appendChild(document.createTextNode(''));\n",
              "                        const url = await google.colab.kernel.proxyPort(port, {cache});\n",
              "\n",
              "                        const external_link = document.createElement('div');\n",
              "                        external_link.innerHTML = `\n",
              "                            <div style=\"font-family: monospace; margin-bottom: 0.5rem\">\n",
              "                                Running on <a href=${new URL(path, url).toString()} target=\"_blank\">\n",
              "                                    https://localhost:${port}${path}\n",
              "                                </a>\n",
              "                            </div>\n",
              "                        `;\n",
              "                        element.appendChild(external_link);\n",
              "\n",
              "                        const iframe = document.createElement('iframe');\n",
              "                        iframe.src = new URL(path, url).toString();\n",
              "                        iframe.height = height;\n",
              "                        iframe.allow = \"autoplay; camera; microphone; clipboard-read; clipboard-write;\"\n",
              "                        iframe.width = width;\n",
              "                        iframe.style.border = 0;\n",
              "                        element.appendChild(iframe);\n",
              "                    })(7880, \"/\", \"100%\", 500, false, window.element)"
            ]
          },
          "metadata": {}
        },
        {
          "output_type": "execute_result",
          "data": {
            "text/plain": [
              "(<gradio.routes.App at 0x7f66146cf810>, 'http://127.0.0.1:7880/', None)"
            ]
          },
          "metadata": {},
          "execution_count": 41
        }
      ],
      "source": [
        "gr.Interface(\n",
        "    classify,\n",
        "    [\"number\",\n",
        "     gr.Radio([\"Male\", \"Female\"]),\n",
        "     gr.Dropdown(['asymptomatic', 'nonanginal', 'nontypical', 'typical'], label=\"type of chest pains\"),\n",
        "     \"number\",\n",
        "     \"number\",\n",
        "     \"number\",\n",
        "     gr.Radio([\"0\",\"1\",\"2\"],label = \"Resting Electrocardiographic Measurement (0 = normal, 1 = having ST-T wave abnormality, 2 = showing probable left ventricular hypertrophy)\"),\n",
        "     \"number\",\n",
        "     gr.Radio([\"yes\",\"no\"],label = \"exercise induced angina) \"),\n",
        "     \"number\",\n",
        "     \"number\",\n",
        "     gr.Dropdown(['fixed', 'normal', 'reversable','nan'], label = \"Thalassemia state\")\n",
        "     ],\n",
        "    outputs=\"text\",\n",
        "    title= \"Heart Disease Prediction Using Logic Regression Algorithm with an acc of 0.7802197802197802\",\n",
        "    examples=[\n",
        "        [63,\"male\",\"typical\",145,233,1,2,150,\"yes\",2.3,3,\"fixed\"],\n",
        "        [67,\"female\",\"nontypical\",160,286,0,2,108,\"no\",2.0,3,\"fixed\"],\n",
        "        [70,\"male\",\"asymptomatic\",145,233,1,2,150,\"yes\",2.3,3,\"normal\"],\n",
        "        [53,\"female\",\"nonanginal\",120,230,0,3,190,\"yes\",1.5,3,\"nan\"]\n",
        "    ],\n",
        ").launch()"
      ]
    },
    {
      "cell_type": "code",
      "source": [],
      "metadata": {
        "id": "I4e_D-In1KiW"
      },
      "id": "I4e_D-In1KiW",
      "execution_count": null,
      "outputs": []
    }
  ],
  "metadata": {
    "kernelspec": {
      "display_name": "Python 3",
      "language": "python",
      "name": "python3"
    },
    "language_info": {
      "codemirror_mode": {
        "name": "ipython",
        "version": 3
      },
      "file_extension": ".py",
      "mimetype": "text/x-python",
      "name": "python",
      "nbconvert_exporter": "python",
      "pygments_lexer": "ipython3",
      "version": "3.8.13"
    },
    "colab": {
      "provenance": []
    }
  },
  "nbformat": 4,
  "nbformat_minor": 5
}